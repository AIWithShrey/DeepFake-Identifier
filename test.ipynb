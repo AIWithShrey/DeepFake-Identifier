{
 "cells": [
  {
   "cell_type": "markdown",
   "metadata": {},
   "source": [
    "### Import modules and Load data"
   ]
  },
  {
   "cell_type": "code",
   "execution_count": 11,
   "metadata": {},
   "outputs": [],
   "source": [
    "import tensorflow as tf\n",
    "import numpy as np\n",
    "import matplotlib.pyplot as plt"
   ]
  },
  {
   "cell_type": "code",
   "execution_count": 12,
   "metadata": {},
   "outputs": [
    {
     "name": "stdout",
     "output_type": "stream",
     "text": [
      "Collecting kaggledatasets\n",
      "  Downloading kaggledatasets-0.0.1-py2.py3-none-any.whl.metadata (5.0 kB)\n",
      "Collecting kaggle (from kaggledatasets)\n",
      "  Downloading kaggle-1.6.6.tar.gz (84 kB)\n",
      "\u001b[2K     \u001b[90m━━━━━━━━━━━━━━━━━━━━━━━━━━━━━━━━━━━━━━━━\u001b[0m \u001b[32m84.6/84.6 kB\u001b[0m \u001b[31m1.3 MB/s\u001b[0m eta \u001b[36m0:00:00\u001b[0ma \u001b[36m0:00:01\u001b[0m\n",
      "\u001b[?25h  Preparing metadata (setup.py) ... \u001b[?25ldone\n",
      "\u001b[?25hRequirement already satisfied: pandas in /opt/anaconda3/envs/TensorFlow/lib/python3.12/site-packages (from kaggledatasets) (2.2.1)\n",
      "Requirement already satisfied: numpy in /opt/anaconda3/envs/TensorFlow/lib/python3.12/site-packages (from kaggledatasets) (1.26.4)\n",
      "Requirement already satisfied: six>=1.10 in /opt/anaconda3/envs/TensorFlow/lib/python3.12/site-packages (from kaggle->kaggledatasets) (1.16.0)\n",
      "Requirement already satisfied: certifi in /opt/anaconda3/envs/TensorFlow/lib/python3.12/site-packages (from kaggle->kaggledatasets) (2024.2.2)\n",
      "Requirement already satisfied: python-dateutil in /opt/anaconda3/envs/TensorFlow/lib/python3.12/site-packages (from kaggle->kaggledatasets) (2.9.0)\n",
      "Requirement already satisfied: requests in /opt/anaconda3/envs/TensorFlow/lib/python3.12/site-packages (from kaggle->kaggledatasets) (2.31.0)\n",
      "Collecting tqdm (from kaggle->kaggledatasets)\n",
      "  Using cached tqdm-4.66.2-py3-none-any.whl.metadata (57 kB)\n",
      "Collecting python-slugify (from kaggle->kaggledatasets)\n",
      "  Downloading python_slugify-8.0.4-py2.py3-none-any.whl.metadata (8.5 kB)\n",
      "Requirement already satisfied: urllib3 in /opt/anaconda3/envs/TensorFlow/lib/python3.12/site-packages (from kaggle->kaggledatasets) (2.2.1)\n",
      "Collecting bleach (from kaggle->kaggledatasets)\n",
      "  Downloading bleach-6.1.0-py3-none-any.whl.metadata (30 kB)\n",
      "Requirement already satisfied: pytz>=2020.1 in /opt/anaconda3/envs/TensorFlow/lib/python3.12/site-packages (from pandas->kaggledatasets) (2024.1)\n",
      "Requirement already satisfied: tzdata>=2022.7 in /opt/anaconda3/envs/TensorFlow/lib/python3.12/site-packages (from pandas->kaggledatasets) (2024.1)\n",
      "Collecting webencodings (from bleach->kaggle->kaggledatasets)\n",
      "  Downloading webencodings-0.5.1-py2.py3-none-any.whl.metadata (2.1 kB)\n",
      "Collecting text-unidecode>=1.3 (from python-slugify->kaggle->kaggledatasets)\n",
      "  Downloading text_unidecode-1.3-py2.py3-none-any.whl.metadata (2.4 kB)\n",
      "Requirement already satisfied: charset-normalizer<4,>=2 in /opt/anaconda3/envs/TensorFlow/lib/python3.12/site-packages (from requests->kaggle->kaggledatasets) (3.3.2)\n",
      "Requirement already satisfied: idna<4,>=2.5 in /opt/anaconda3/envs/TensorFlow/lib/python3.12/site-packages (from requests->kaggle->kaggledatasets) (3.6)\n",
      "Downloading kaggledatasets-0.0.1-py2.py3-none-any.whl (15 kB)\n",
      "Downloading bleach-6.1.0-py3-none-any.whl (162 kB)\n",
      "\u001b[2K   \u001b[90m━━━━━━━━━━━━━━━━━━━━━━━━━━━━━━━━━━━━━━━━\u001b[0m \u001b[32m162.8/162.8 kB\u001b[0m \u001b[31m3.1 MB/s\u001b[0m eta \u001b[36m0:00:00\u001b[0ma \u001b[36m0:00:01\u001b[0m\n",
      "\u001b[?25hDownloading python_slugify-8.0.4-py2.py3-none-any.whl (10 kB)\n",
      "Using cached tqdm-4.66.2-py3-none-any.whl (78 kB)\n",
      "Downloading text_unidecode-1.3-py2.py3-none-any.whl (78 kB)\n",
      "\u001b[2K   \u001b[90m━━━━━━━━━━━━━━━━━━━━━━━━━━━━━━━━━━━━━━━━\u001b[0m \u001b[32m78.2/78.2 kB\u001b[0m \u001b[31m3.8 MB/s\u001b[0m eta \u001b[36m0:00:00\u001b[0m\n",
      "\u001b[?25hDownloading webencodings-0.5.1-py2.py3-none-any.whl (11 kB)\n",
      "Building wheels for collected packages: kaggle\n",
      "  Building wheel for kaggle (setup.py) ... \u001b[?25ldone\n",
      "\u001b[?25h  Created wheel for kaggle: filename=kaggle-1.6.6-py3-none-any.whl size=111943 sha256=7417c16099b5f18dbbfe172b659c7223ecca85eac518728eb63b49729b4dbd59\n",
      "  Stored in directory: /home/shreyas/.cache/pip/wheels/16/f0/59/684408dead276be2c1455b5ee141c49200ff13f2c788e04a05\n",
      "Successfully built kaggle\n",
      "Installing collected packages: webencodings, text-unidecode, tqdm, python-slugify, bleach, kaggle, kaggledatasets\n",
      "Successfully installed bleach-6.1.0 kaggle-1.6.6 kaggledatasets-0.0.1 python-slugify-8.0.4 text-unidecode-1.3 tqdm-4.66.2 webencodings-0.5.1\n"
     ]
    }
   ],
   "source": [
    "!pip install kaggledatasets"
   ]
  },
  {
   "cell_type": "code",
   "execution_count": 16,
   "metadata": {},
   "outputs": [
    {
     "name": "stdout",
     "output_type": "stream",
     "text": [
      "Warning: Your Kaggle API key is readable by other users on this system! To fix this, you can run 'chmod 600 /home/shreyas/.kaggle/kaggle.json'\n",
      "Downloading ai-generated-images-vs-real-images.zip to /home/shreyas/deepfake_identifier\n",
      "100%|███████████████████████████████████████▉| 475M/476M [00:43<00:00, 11.7MB/s]\n",
      "100%|████████████████████████████████████████| 476M/476M [00:43<00:00, 11.4MB/s]\n"
     ]
    }
   ],
   "source": [
    "!kaggle datasets download -d cashbowman/ai-generated-images-vs-real-images"
   ]
  },
  {
   "cell_type": "code",
   "execution_count": null,
   "metadata": {},
   "outputs": [],
   "source": [
    "import tensorflow as tf\n",
    "import numpy as np\n",
    "import matplotlib.pyplot as plt\n",
    "\n",
    "from tensorflow.keras import layers"
   ]
  }
 ],
 "metadata": {
  "kernelspec": {
   "display_name": "TensorFlow",
   "language": "python",
   "name": "python3"
  },
  "language_info": {
   "codemirror_mode": {
    "name": "ipython",
    "version": 3
   },
   "file_extension": ".py",
   "mimetype": "text/x-python",
   "name": "python",
   "nbconvert_exporter": "python",
   "pygments_lexer": "ipython3",
   "version": "3.12.2"
  }
 },
 "nbformat": 4,
 "nbformat_minor": 2
}
